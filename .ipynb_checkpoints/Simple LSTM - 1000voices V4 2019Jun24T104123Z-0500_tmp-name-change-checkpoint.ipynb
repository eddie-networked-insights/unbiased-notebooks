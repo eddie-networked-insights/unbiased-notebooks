{
 "cells": [
  {
   "cell_type": "code",
   "execution_count": 1,
   "metadata": {},
   "outputs": [
    {
     "name": "stdout",
     "output_type": "stream",
     "text": [
      "Mon Jun 24 21:14:09 UTC 2019\r\n"
     ]
    }
   ],
   "source": [
    "!date"
   ]
  },
  {
   "cell_type": "code",
   "execution_count": 171,
   "metadata": {
    "scrolled": true
   },
   "outputs": [
    {
     "name": "stdout",
     "output_type": "stream",
     "text": [
      "Tue Jun 25 16:50:33 2019       \r\n",
      "+-----------------------------------------------------------------------------+\r\n",
      "| NVIDIA-SMI 410.104      Driver Version: 410.104      CUDA Version: 10.0     |\r\n",
      "|-------------------------------+----------------------+----------------------+\r\n",
      "| GPU  Name        Persistence-M| Bus-Id        Disp.A | Volatile Uncorr. ECC |\r\n",
      "| Fan  Temp  Perf  Pwr:Usage/Cap|         Memory-Usage | GPU-Util  Compute M. |\r\n",
      "|===============================+======================+======================|\r\n",
      "|   0  Tesla V100-SXM2...  Off  | 00000000:00:04.0 Off |                    0 |\r\n",
      "| N/A   35C    P0    38W / 300W |  15675MiB / 16130MiB |      0%      Default |\r\n",
      "+-------------------------------+----------------------+----------------------+\r\n",
      "                                                                               \r\n",
      "+-----------------------------------------------------------------------------+\r\n",
      "| Processes:                                                       GPU Memory |\r\n",
      "|  GPU       PID   Type   Process name                             Usage      |\r\n",
      "|=============================================================================|\r\n",
      "|    0      8639      C   /usr/bin/python3                           15661MiB |\r\n",
      "+-----------------------------------------------------------------------------+\r\n"
     ]
    }
   ],
   "source": [
    "!nvidia-smi"
   ]
  },
  {
   "cell_type": "code",
   "execution_count": 2,
   "metadata": {},
   "outputs": [
    {
     "name": "stderr",
     "output_type": "stream",
     "text": [
      "Using TensorFlow backend.\n"
     ]
    }
   ],
   "source": [
    "import numpy as np\n",
    "import pandas as pd\n",
    "from tqdm import tqdm\n",
    "tqdm.pandas()\n",
    "from keras.models import Model\n",
    "from keras.layers import Input, Dense, Embedding, SpatialDropout1D, Dropout, add, concatenate\n",
    "from keras.layers import CuDNNLSTM, Bidirectional, GlobalMaxPooling1D, GlobalAveragePooling1D\n",
    "from keras.optimizers import Adam\n",
    "from keras.preprocessing import text, sequence\n",
    "from keras.callbacks import LearningRateScheduler"
   ]
  },
  {
   "cell_type": "code",
   "execution_count": 3,
   "metadata": {},
   "outputs": [],
   "source": [
    "#crawl-300d-2M.vec--> https://fasttext.cc/docs/en/english-vectors.html\n",
    "#When pre-train embedding is helpful? https://www.aclweb.org/anthology/N18-2084\n",
    "#There are many pretrained word embedding models: \n",
    "#fasttext, GloVe, Word2Vec, etc\n",
    "#crawl-300d-2M.vec is trained from Common Crawl (a website that collects almost everything)\n",
    "#it has 2 million words. Each word is represent by a vector of 300 dimensions.\n",
    "\n",
    "#https://nlp.stanford.edu/projects/glove/\n",
    "#GloVe is similar to crawl-300d-2M.vec. Probably, they use different algorithms.\n",
    "#glove.840B.300d.zip: Common Crawl (840B tokens, 2.2M vocab, cased, 300d vectors, 2.03 GB download)\n",
    "#tokens mean words. It has 2.2M different words and 840B (likely duplicated) words in total\n",
    "\n",
    "#note that these two pre-trained models give 300d vectors.\n",
    "EMBEDDING_FILES = [\n",
    "    '../input/fasttext-crawl-300d-2m/crawl-300d-2M.vec',\n",
    "    '../input/glove840b300dtxt/glove.840B.300d.txt'\n",
    "]"
   ]
  },
  {
   "cell_type": "code",
   "execution_count": 4,
   "metadata": {},
   "outputs": [],
   "source": [
    "NUM_MODELS = 2\n",
    "# the maximum number of different words to keep in the original texts\n",
    "# 40_000 is a normal number\n",
    "# 100_000 seems good too\n",
    "MAX_FEATURES = 100000 \n",
    "\n",
    "#this is the number of training sample to put in theo model each step\n",
    "BATCH_SIZE = 512\n",
    "\n",
    "#units parameters in Keras.layers.LSTM/cuDNNLSTM\n",
    "#it it the dimension of the output vector of each LSTM cell.\n",
    "LSTM_UNITS = 128\n",
    "DENSE_HIDDEN_UNITS = 4 * LSTM_UNITS\n",
    "\n",
    "EPOCHS = 4\n",
    "\n",
    "#we will convert each word in a comment_text to a number.\n",
    "#So a comment_text is a list of number. How many numbers in this list?\n",
    "#we want the length of this list is a constant -> MAX_LEN\n",
    "MAX_LEN = 220"
   ]
  },
  {
   "cell_type": "code",
   "execution_count": 5,
   "metadata": {},
   "outputs": [],
   "source": [
    "def get_coefs(word, *arr):\n",
    "    return word, np.asarray(arr, dtype='float32')\n",
    "\n",
    "\n",
    "def load_embeddings(path):\n",
    "    #each line in the file looks like \n",
    "    # apple 0.3 0.4 0.5 0.6 ...\n",
    "    # that is a word followed by 300 float numbers\n",
    "\n",
    "    with open(path) as f:\n",
    "        #return dict(get_coefs(*line.strip().split(' ')) for line in f)\n",
    "        return dict(get_coefs(*o.strip().split(\" \")) for o in tqdm(f))"
   ]
  },
  {
   "cell_type": "code",
   "execution_count": 6,
   "metadata": {},
   "outputs": [],
   "source": [
    "def build_matrix(word_index, path):\n",
    "    #path: a path that contains embedding matrix\n",
    "    #word_index is a dict of the form ('apple': 123, 'banana': 349, etc)\n",
    "    # that means word_index[word] gives the index of the word\n",
    "    # word_index was built from all commment_texts\n",
    "\n",
    "    #we will construct an embedding_matrix for the words in word_index\n",
    "    #using pre-trained embedding word vectors from 'path'\n",
    "\n",
    "    embedding_index = load_embeddings(path)\n",
    "\n",
    "    #embedding_matrix is a matrix of len(word_index)+1  x 300\n",
    "    embedding_matrix = np.zeros((len(word_index) + 1, 300))\n",
    "\n",
    "    # word_index is a dict. Each element is (word:i) where i is the index\n",
    "    # of the word\n",
    "    for word, i in word_index.items():\n",
    "        try:\n",
    "            #RHS is a vector of 300d\n",
    "            embedding_matrix[i] = embedding_index[word]\n",
    "        except KeyError:\n",
    "            pass\n",
    "    return embedding_matrix"
   ]
  },
  {
   "cell_type": "code",
   "execution_count": 7,
   "metadata": {},
   "outputs": [],
   "source": [
    "def build_model(embedding_matrix, num_aux_targets):\n",
    "   # a simpler version can be found here\n",
    "   # https://www.tensorflow.org/tutorials/keras/basic_text_classification\n",
    "\n",
    "   # Trainable params of the model: 1,671,687\n",
    "   # Recall that the number of samples in train.csv is 1_804_874\n",
    "\n",
    "    #words is a vector of MAX_LEN dimension\n",
    "    words = Input(shape=(MAX_LEN,))\n",
    "\n",
    "    #Embedding is the keras layer. We use the pre-trained embbeding_matrix\n",
    "    # https://keras.io/layers/embeddings/\n",
    "    # have to say that parameters in this layer are not trainable\n",
    "    # x is a vector of 600 dimension\n",
    "    x = Embedding(*embedding_matrix.shape, weights=[embedding_matrix], trainable=False)(words)\n",
    "\n",
    "    #*embedding_matrix.shape is a short way for \n",
    "    #input_dim = embedding_matrix.shape[0], output_dim  = embedding_matrix.shape[1]\n",
    "\n",
    "    #here the author used pre-train embedding matrix.\n",
    "    #instead of train from begining like in tensorflow example\n",
    "\n",
    "    #https://stackoverflow.com/questions/50393666/how-to-understand-spatialdropout1d-and-when-to-use-it\n",
    "    #x = SpatialDropout1D(0.25)(x)\n",
    "    x = SpatialDropout1D(0.3)(x)\n",
    "\n",
    "    x = Bidirectional(CuDNNLSTM(LSTM_UNITS, return_sequences=True))(x)\n",
    "\n",
    "    x = Bidirectional(CuDNNLSTM(LSTM_UNITS, return_sequences=True))(x)\n",
    "\n",
    "    hidden = concatenate([\n",
    "        GlobalMaxPooling1D()(x),\n",
    "        GlobalAveragePooling1D()(x),\n",
    "    ])\n",
    "\n",
    "    hidden = add([hidden, Dense(DENSE_HIDDEN_UNITS, activation='relu')(hidden)])\n",
    "    hidden = add([hidden, Dense(DENSE_HIDDEN_UNITS, activation='relu')(hidden)])\n",
    "    result = Dense(1, activation='sigmoid')(hidden)\n",
    "\n",
    "    #num_aux_targets = 6 since y_aux_train has 6 columns\n",
    "    aux_result = Dense(num_aux_targets, activation='sigmoid')(hidden)\n",
    "\n",
    "    model = Model(inputs=words, outputs=[result, aux_result])\n",
    "\n",
    "    #model.summary() will gives a good view of the model structure\n",
    "\n",
    "    model.compile(\n",
    "        loss='binary_crossentropy',\n",
    "        optimizer=Adam(clipnorm=0.1),\n",
    "        metrics=['accuracy'])\n",
    "\n",
    "\n",
    "\n",
    "    return model"
   ]
  },
  {
   "cell_type": "code",
   "execution_count": 8,
   "metadata": {},
   "outputs": [
    {
     "name": "stdout",
     "output_type": "stream",
     "text": [
      "Simple LSTM - 1000voices V4 2019Jun24T104123Z-0500.ipynb\r\n"
     ]
    }
   ],
   "source": [
    "!ls ."
   ]
  },
  {
   "cell_type": "code",
   "execution_count": 9,
   "metadata": {},
   "outputs": [
    {
     "name": "stdout",
     "output_type": "stream",
     "text": [
      "../input/jigsaw-unintended-bias-in-toxicity-classification/train.csv\r\n"
     ]
    }
   ],
   "source": [
    "!ls ../input/jigsaw-unintended-bias-in-toxicity-classification/train.csv"
   ]
  },
  {
   "cell_type": "code",
   "execution_count": 10,
   "metadata": {
    "scrolled": true
   },
   "outputs": [],
   "source": [
    "train = pd.read_csv('../input/jigsaw-unintended-bias-in-toxicity-classification/train.csv')\n",
    "test = pd.read_csv('../input/jigsaw-unintended-bias-in-toxicity-classification/test.csv')"
   ]
  },
  {
   "cell_type": "code",
   "execution_count": 11,
   "metadata": {},
   "outputs": [],
   "source": [
    "#\n",
    "#Take the columns 'comment_text' from train,\n",
    "# then fillall NaN values by emtpy string '' (redundant)\n",
    "x_train = train['comment_text'].fillna('').values\n",
    "\n",
    "#if true, y_train[i] =1, if false, it is = 0\n",
    "y_train = np.where(train['target'] >= 0.5, 1, 0)\n",
    "\n",
    "y_aux_train = train[['target', 'severe_toxicity', 'obscene', 'identity_attack', 'insult', 'threat']]\n",
    "\n",
    "#\n",
    "#Take the columns 'comment_text' from test,\n",
    "# then fillall NaN values by emtpy string '' (redundant)\n",
    "x_test = test['comment_text'].fillna('').values"
   ]
  },
  {
   "cell_type": "code",
   "execution_count": 12,
   "metadata": {},
   "outputs": [],
   "source": [
    "# https://keras.io/preprocessing/text/\n",
    "# tokenizer is a class with some method\n",
    "tokenizer = text.Tokenizer(num_words=MAX_FEATURES)\n",
    "\n",
    "#we apply method fit_on_texts of tokenizer on x_train and x_test\n",
    "#it will initialize some parameters/attribute inside tokenizer\n",
    "#https://github.com/keras-team/keras-preprocessing/blob/master/keras_preprocessing/text.py#L139\n",
    "#https://github.com/keras-team/keras-preprocessing/blob/master/keras_preprocessing/text.py#L210\n",
    "\n",
    "tokenizer.fit_on_texts(list(x_train) + list(x_test))\n",
    "#for example, after fit_on_texts, we can type\n",
    "#tokenizer.word_counts #give a OderedDict\n",
    "#tokenizer.document_counts # an int\n",
    "#tokenizer.word_index is a dict of words with correponding indices\n",
    "#There are 410046 different words in all 'comment_text'\n",
    "#len(tokenizer.word_index) == 410_046\n",
    "\n",
    "\n",
    "#these words come from all 'comment_text' in training.csv and test.csv\n",
    "\n",
    "#tokenizer.index_word: the inverse of tokenizer.word_index\n",
    "\n",
    "\n",
    "#https://github.com/keras-team/keras-preprocessing/blob/master/keras_preprocessing/text.py#L267\n",
    "#we will convert each word in a comment_text to a number.\n",
    "#So a comment_text is a list of number.\n",
    "\n",
    "\n",
    "x_train = tokenizer.texts_to_sequences(x_train)\n",
    "x_test = tokenizer.texts_to_sequences(x_test)\n",
    "\n",
    "\n",
    "#https://keras.io/preprocessing/sequence/\n",
    "# https://github.com/keras-team/keras-preprocessing/blob/master/keras_preprocessing/sequence.py\n",
    "#each comment_text is now a list of word\n",
    "# we want the length of this list is a constant -> MAX_LEN\n",
    "# if the list is longer, then we cut/trim it \n",
    "# if shorter, then we add/pad it with 0's at the beginning\n",
    "x_train = sequence.pad_sequences(x_train, maxlen=MAX_LEN)\n",
    "x_test = sequence.pad_sequences(x_test, maxlen=MAX_LEN)"
   ]
  },
  {
   "cell_type": "code",
   "execution_count": 13,
   "metadata": {},
   "outputs": [
    {
     "name": "stderr",
     "output_type": "stream",
     "text": [
      "2000001it [02:25, 13792.08it/s]\n",
      "2196018it [02:48, 13060.28it/s]\n"
     ]
    }
   ],
   "source": [
    "# create an embedding_matrix \n",
    "#after this, embedding_matrix is a matrix of size\n",
    "# len(tokenizer.word_index)+1   x 600\n",
    "# we concatenate two matrices, 600 = 300+300\n",
    "embedding_matrix = np.concatenate(\n",
    "    [build_matrix(tokenizer.word_index, f) for f in EMBEDDING_FILES], axis=-1)\n",
    "#embedding_matrix.shape \n",
    "#== (410047, 600)\n",
    "\n",
    "#embedding_matrix[i] is a 600d vector representation of the word whose index is i\n",
    "#embedding_matrix[10]\n",
    "#tokenizer.index_word[10] == 'you'"
   ]
  },
  {
   "cell_type": "code",
   "execution_count": 14,
   "metadata": {},
   "outputs": [
    {
     "name": "stdout",
     "output_type": "stream",
     "text": [
      "WARNING:tensorflow:From /usr/local/lib/python3.5/dist-packages/tensorflow/python/framework/op_def_library.py:263: colocate_with (from tensorflow.python.framework.ops) is deprecated and will be removed in a future version.\n",
      "Instructions for updating:\n",
      "Colocations handled automatically by placer.\n",
      "WARNING:tensorflow:From /usr/local/lib/python3.5/dist-packages/keras/backend/tensorflow_backend.py:3445: calling dropout (from tensorflow.python.ops.nn_ops) with keep_prob is deprecated and will be removed in a future version.\n",
      "Instructions for updating:\n",
      "Please use `rate` instead of `keep_prob`. Rate should be set to `rate = 1 - keep_prob`.\n",
      "WARNING:tensorflow:From /usr/local/lib/python3.5/dist-packages/tensorflow/python/ops/math_ops.py:3066: to_int32 (from tensorflow.python.ops.math_ops) is deprecated and will be removed in a future version.\n",
      "Instructions for updating:\n",
      "Use tf.cast instead.\n",
      "WARNING:tensorflow:From /usr/local/lib/python3.5/dist-packages/tensorflow/python/ops/math_grad.py:102: div (from tensorflow.python.ops.math_ops) is deprecated and will be removed in a future version.\n",
      "Instructions for updating:\n",
      "Deprecated in favor of operator or tf.math.divide.\n",
      "Epoch 1/1\n",
      "1804874/1804874 [==============================] - 504s 279us/step - loss: 0.2389 - dense_3_loss: 0.1315 - dense_4_loss: 0.1074 - dense_3_acc: 0.9484 - dense_4_acc: 0.8547\n",
      "Epoch 1/1\n",
      "1804874/1804874 [==============================] - 496s 275us/step - loss: 0.2185 - dense_3_loss: 0.1157 - dense_4_loss: 0.1029 - dense_3_acc: 0.9536 - dense_4_acc: 0.8550\n",
      "Epoch 1/1\n",
      "1804874/1804874 [==============================] - 496s 275us/step - loss: 0.2125 - dense_3_loss: 0.1105 - dense_4_loss: 0.1020 - dense_3_acc: 0.9553 - dense_4_acc: 0.8550\n",
      "Epoch 1/1\n",
      "1804874/1804874 [==============================] - 495s 274us/step - loss: 0.2083 - dense_3_loss: 0.1068 - dense_4_loss: 0.1015 - dense_3_acc: 0.9564 - dense_4_acc: 0.8550\n",
      "Epoch 1/1\n",
      "1804874/1804874 [==============================] - 495s 274us/step - loss: 0.2389 - dense_7_loss: 0.1316 - dense_8_loss: 0.1073 - dense_7_acc: 0.9484 - dense_8_acc: 0.8547\n",
      "Epoch 1/1\n",
      "1804874/1804874 [==============================] - 493s 273us/step - loss: 0.2187 - dense_7_loss: 0.1158 - dense_8_loss: 0.1029 - dense_7_acc: 0.9537 - dense_8_acc: 0.8550\n",
      "Epoch 1/1\n",
      "1804874/1804874 [==============================] - 496s 275us/step - loss: 0.2126 - dense_7_loss: 0.1106 - dense_8_loss: 0.1020 - dense_7_acc: 0.9553 - dense_8_acc: 0.8550\n",
      "Epoch 1/1\n",
      "1804874/1804874 [==============================] - 493s 273us/step - loss: 0.2083 - dense_7_loss: 0.1068 - dense_8_loss: 0.1015 - dense_7_acc: 0.9566 - dense_8_acc: 0.8550\n"
     ]
    }
   ],
   "source": [
    "checkpoint_predictions = []\n",
    "weights = []\n",
    "\n",
    "\n",
    "#https://keras.io/callbacks/#learningratescheduler\n",
    "\n",
    "for model_idx in range(NUM_MODELS):\n",
    "  # build the same models\n",
    "    model = build_model(embedding_matrix, y_aux_train.shape[-1])\n",
    "  # We train each model EPOCHS times\n",
    "  # After each epoch, we reset learning rate (we are using Adam Optimizer)  \n",
    "  # https://towardsdatascience.com/learning-rate-scheduler-d8a55747dd90\n",
    "\n",
    "  # https://github.com/keras-team/keras/blob/master/keras/callbacks.py#L921\n",
    "  # learningrate is the attribute 'lr' from Adam optimizer\n",
    "  # see https://github.com/keras-team/keras/blob/master/keras/optimizers.py#L460\n",
    "  # In Adam Optimizer, learning rate is changing after each batch\n",
    "    for global_epoch in range(EPOCHS):\n",
    "        model.fit(\n",
    "            x_train,\n",
    "            [y_train, y_aux_train],\n",
    "            batch_size=BATCH_SIZE,\n",
    "            epochs=1,\n",
    "            verbose=1,\n",
    "            callbacks=[\n",
    "                #LearningRateScheduler(lambda epoch: 1e-3 * (0.6 ** global_epoch), verbose = 1)\n",
    "                LearningRateScheduler(lambda epoch: 1e-3 * (0.6 ** global_epoch))\n",
    "            ]\n",
    "        )\n",
    "        #model.predict will give two outputs: main_output (target) and aux_output\n",
    "        #we only take main_output\n",
    "        checkpoint_predictions.append(model.predict(x_test, batch_size=2048)[0].flatten())\n",
    "        weights.append(2 ** global_epoch)"
   ]
  },
  {
   "cell_type": "code",
   "execution_count": 15,
   "metadata": {},
   "outputs": [],
   "source": [
    "#take average (with weights) of predictions from two models\n",
    "#predictions is an np.array\n",
    "predictions = np.average(checkpoint_predictions, weights=weights, axis=0)"
   ]
  },
  {
   "cell_type": "code",
   "execution_count": 16,
   "metadata": {},
   "outputs": [],
   "source": [
    "submission = pd.DataFrame.from_dict({\n",
    "    'id': test['id'],\n",
    "    'prediction': predictions\n",
    "})\n",
    "\n",
    "submission.to_csv('submission.csv', index=False)"
   ]
  },
  {
   "cell_type": "code",
   "execution_count": 17,
   "metadata": {
    "scrolled": true
   },
   "outputs": [
    {
     "name": "stdout",
     "output_type": "stream",
     "text": [
      "Mon Jun 24 22:30:38 UTC 2019\r\n"
     ]
    }
   ],
   "source": [
    "!date"
   ]
  },
  {
   "cell_type": "markdown",
   "metadata": {},
   "source": [
    "do not stop this kernel\n",
    "\n",
    "look into how to save the model?"
   ]
  },
  {
   "cell_type": "markdown",
   "metadata": {},
   "source": [
    "# Prediction on Input String"
   ]
  },
  {
   "cell_type": "code",
   "execution_count": 166,
   "metadata": {
    "scrolled": true
   },
   "outputs": [],
   "source": [
    "strHist = {}"
   ]
  },
  {
   "cell_type": "code",
   "execution_count": 169,
   "metadata": {},
   "outputs": [],
   "source": [
    "#one liner to get prediction for any string (NOTE: removes words that aren't in tokenizer.word_index)\n",
    "inputStr = \"I like dogs\"\n",
    "strHist[inputStr] = modelT.predict(sequence.pad_sequences(tokenizer.texts_to_sequences(np.array([inputStr], dtype=object)), maxlen=MAX_LEN), batch_size=2048)[0].flatten()[0]"
   ]
  },
  {
   "cell_type": "code",
   "execution_count": 170,
   "metadata": {},
   "outputs": [
    {
     "data": {
      "text/plain": [
       "{'I like dogs': 0.12821592, 'Trump is an idiot': 0.9997495}"
      ]
     },
     "execution_count": 170,
     "metadata": {},
     "output_type": "execute_result"
    }
   ],
   "source": [
    "strHist"
   ]
  },
  {
   "cell_type": "markdown",
   "metadata": {},
   "source": [
    "# analysis after running notebook"
   ]
  },
  {
   "cell_type": "code",
   "execution_count": null,
   "metadata": {},
   "outputs": [],
   "source": []
  }
 ],
 "metadata": {
  "kernelspec": {
   "display_name": "Python 3",
   "language": "python",
   "name": "python3"
  },
  "language_info": {
   "codemirror_mode": {
    "name": "ipython",
    "version": 3
   },
   "file_extension": ".py",
   "mimetype": "text/x-python",
   "name": "python",
   "nbconvert_exporter": "python",
   "pygments_lexer": "ipython3",
   "version": "3.5.3"
  }
 },
 "nbformat": 4,
 "nbformat_minor": 1
}
