{
 "cells": [
  {
   "cell_type": "code",
   "execution_count": 1,
   "metadata": {
    "scrolled": true
   },
   "outputs": [
    {
     "name": "stdout",
     "output_type": "stream",
     "text": [
      "Wed Jun 26 19:40:40 2019       \r\n",
      "+-----------------------------------------------------------------------------+\r\n",
      "| NVIDIA-SMI 410.104      Driver Version: 410.104      CUDA Version: 10.0     |\r\n",
      "|-------------------------------+----------------------+----------------------+\r\n",
      "| GPU  Name        Persistence-M| Bus-Id        Disp.A | Volatile Uncorr. ECC |\r\n",
      "| Fan  Temp  Perf  Pwr:Usage/Cap|         Memory-Usage | GPU-Util  Compute M. |\r\n",
      "|===============================+======================+======================|\r\n",
      "|   0  Tesla V100-SXM2...  Off  | 00000000:00:04.0 Off |                    0 |\r\n",
      "| N/A   35C    P0    37W / 300W |      0MiB / 16130MiB |      0%      Default |\r\n",
      "+-------------------------------+----------------------+----------------------+\r\n",
      "                                                                               \r\n",
      "+-----------------------------------------------------------------------------+\r\n",
      "| Processes:                                                       GPU Memory |\r\n",
      "|  GPU       PID   Type   Process name                             Usage      |\r\n",
      "|=============================================================================|\r\n",
      "|  No running processes found                                                 |\r\n",
      "+-----------------------------------------------------------------------------+\r\n"
     ]
    }
   ],
   "source": [
    "!nvidia-smi"
   ]
  },
  {
   "cell_type": "code",
   "execution_count": 1,
   "metadata": {},
   "outputs": [
    {
     "name": "stderr",
     "output_type": "stream",
     "text": [
      "Using TensorFlow backend.\n"
     ]
    }
   ],
   "source": [
    "import numpy as np\n",
    "import pandas as pd\n",
    "from tqdm import tqdm\n",
    "tqdm.pandas()\n",
    "from keras.models import Model\n",
    "from keras.layers import Input, Dense, Embedding, SpatialDropout1D, Dropout, add, concatenate\n",
    "from keras.layers import CuDNNLSTM, Bidirectional, GlobalMaxPooling1D, GlobalAveragePooling1D\n",
    "from keras.optimizers import Adam\n",
    "from keras.preprocessing import text, sequence\n",
    "from keras.callbacks import LearningRateScheduler"
   ]
  },
  {
   "cell_type": "code",
   "execution_count": 2,
   "metadata": {},
   "outputs": [],
   "source": [
    "#crawl-300d-2M.vec--> https://fasttext.cc/docs/en/english-vectors.html\n",
    "#When pre-train embedding is helpful? https://www.aclweb.org/anthology/N18-2084\n",
    "#There are many pretrained word embedding models: \n",
    "#fasttext, GloVe, Word2Vec, etc\n",
    "#crawl-300d-2M.vec is trained from Common Crawl (a website that collects almost everything)\n",
    "#it has 2 million words. Each word is represent by a vector of 300 dimensions.\n",
    "\n",
    "#https://nlp.stanford.edu/projects/glove/\n",
    "#GloVe is similar to crawl-300d-2M.vec. Probably, they use different algorithms.\n",
    "#glove.840B.300d.zip: Common Crawl (840B tokens, 2.2M vocab, cased, 300d vectors, 2.03 GB download)\n",
    "#tokens mean words. It has 2.2M different words and 840B (likely duplicated) words in total\n",
    "\n",
    "#note that these two pre-trained models give 300d vectors.\n",
    "EMBEDDING_FILES = [\n",
    "    '../input/fasttext-crawl-300d-2m/crawl-300d-2M.vec',\n",
    "    '../input/glove840b300dtxt/glove.840B.300d.txt'\n",
    "]"
   ]
  },
  {
   "cell_type": "code",
   "execution_count": 3,
   "metadata": {},
   "outputs": [],
   "source": [
    "NUM_MODELS = 2\n",
    "# the maximum number of different words to keep in the original texts\n",
    "# 40_000 is a normal number\n",
    "# 100_000 seems good too\n",
    "MAX_FEATURES = 100000 \n",
    "\n",
    "#this is the number of training sample to put in theo model each step\n",
    "BATCH_SIZE = 512\n",
    "\n",
    "#units parameters in Keras.layers.LSTM/cuDNNLSTM\n",
    "#it it the dimension of the output vector of each LSTM cell.\n",
    "LSTM_UNITS = 128\n",
    "DENSE_HIDDEN_UNITS = 4 * LSTM_UNITS\n",
    "\n",
    "EPOCHS = 4\n",
    "\n",
    "#we will convert each word in a comment_text to a number.\n",
    "#So a comment_text is a list of number. How many numbers in this list?\n",
    "#we want the length of this list is a constant -> MAX_LEN\n",
    "MAX_LEN = 220"
   ]
  },
  {
   "cell_type": "code",
   "execution_count": 4,
   "metadata": {},
   "outputs": [],
   "source": [
    "def get_coefs(word, *arr):\n",
    "    return word, np.asarray(arr, dtype='float32')\n",
    "\n",
    "\n",
    "def load_embeddings(path):\n",
    "    #each line in the file looks like \n",
    "    # apple 0.3 0.4 0.5 0.6 ...\n",
    "    # that is a word followed by 300 float numbers\n",
    "\n",
    "    with open(path) as f:\n",
    "        #return dict(get_coefs(*line.strip().split(' ')) for line in f)\n",
    "        return dict(get_coefs(*o.strip().split(\" \")) for o in tqdm(f))"
   ]
  },
  {
   "cell_type": "code",
   "execution_count": 5,
   "metadata": {},
   "outputs": [],
   "source": [
    "def build_matrix(word_index, path):\n",
    "    #path: a path that contains embedding matrix\n",
    "    #word_index is a dict of the form ('apple': 123, 'banana': 349, etc)\n",
    "    # that means word_index[word] gives the index of the word\n",
    "    # word_index was built from all commment_texts\n",
    "\n",
    "    #we will construct an embedding_matrix for the words in word_index\n",
    "    #using pre-trained embedding word vectors from 'path'\n",
    "\n",
    "    embedding_index = load_embeddings(path)\n",
    "\n",
    "    #embedding_matrix is a matrix of len(word_index)+1  x 300\n",
    "    embedding_matrix = np.zeros((len(word_index) + 1, 300))\n",
    "\n",
    "    # word_index is a dict. Each element is (word:i) where i is the index\n",
    "    # of the word\n",
    "    for word, i in word_index.items():\n",
    "        try:\n",
    "            #RHS is a vector of 300d\n",
    "            embedding_matrix[i] = embedding_index[word]\n",
    "        except KeyError:\n",
    "            pass\n",
    "    return embedding_matrix"
   ]
  },
  {
   "cell_type": "code",
   "execution_count": 6,
   "metadata": {},
   "outputs": [],
   "source": [
    "def build_model(embedding_matrix, num_aux_targets):\n",
    "   # a simpler version can be found here\n",
    "   # https://www.tensorflow.org/tutorials/keras/basic_text_classification\n",
    "\n",
    "   # Trainable params of the model: 1,671,687\n",
    "   # Recall that the number of samples in train.csv is 1_804_874\n",
    "\n",
    "    #words is a vector of MAX_LEN dimension\n",
    "    words = Input(shape=(MAX_LEN,))\n",
    "\n",
    "    #Embedding is the keras layer. We use the pre-trained embbeding_matrix\n",
    "    # https://keras.io/layers/embeddings/\n",
    "    # have to say that parameters in this layer are not trainable\n",
    "    # x is a vector of 600 dimension\n",
    "    x = Embedding(*embedding_matrix.shape, weights=[embedding_matrix], trainable=False)(words)\n",
    "\n",
    "    #*embedding_matrix.shape is a short way for \n",
    "    #input_dim = embedding_matrix.shape[0], output_dim  = embedding_matrix.shape[1]\n",
    "\n",
    "    #here the author used pre-train embedding matrix.\n",
    "    #instead of train from begining like in tensorflow example\n",
    "\n",
    "    #https://stackoverflow.com/questions/50393666/how-to-understand-spatialdropout1d-and-when-to-use-it\n",
    "    #x = SpatialDropout1D(0.25)(x)\n",
    "    x = SpatialDropout1D(0.3)(x)\n",
    "\n",
    "    x = Bidirectional(CuDNNLSTM(LSTM_UNITS, return_sequences=True))(x)\n",
    "\n",
    "    x = Bidirectional(CuDNNLSTM(LSTM_UNITS, return_sequences=True))(x)\n",
    "\n",
    "    hidden = concatenate([\n",
    "        GlobalMaxPooling1D()(x),\n",
    "        GlobalAveragePooling1D()(x),\n",
    "    ])\n",
    "\n",
    "    hidden = add([hidden, Dense(DENSE_HIDDEN_UNITS, activation='relu')(hidden)])\n",
    "    hidden = add([hidden, Dense(DENSE_HIDDEN_UNITS, activation='relu')(hidden)])\n",
    "    result = Dense(1, activation='sigmoid')(hidden)\n",
    "\n",
    "    #num_aux_targets = 6 since y_aux_train has 6 columns\n",
    "    aux_result = Dense(num_aux_targets, activation='sigmoid')(hidden)\n",
    "\n",
    "    model = Model(inputs=words, outputs=[result, aux_result])\n",
    "\n",
    "    #model.summary() will gives a good view of the model structure\n",
    "\n",
    "    model.compile(\n",
    "        loss='binary_crossentropy',\n",
    "        optimizer=Adam(clipnorm=0.1),\n",
    "        metrics=['accuracy'])\n",
    "\n",
    "\n",
    "\n",
    "    return model"
   ]
  },
  {
   "cell_type": "code",
   "execution_count": 7,
   "metadata": {
    "scrolled": true
   },
   "outputs": [],
   "source": [
    "train = pd.read_csv('../input/jigsaw-unintended-bias-in-toxicity-classification/train.csv')\n",
    "test = pd.read_csv('../input/jigsaw-unintended-bias-in-toxicity-classification/test.csv')"
   ]
  },
  {
   "cell_type": "code",
   "execution_count": 8,
   "metadata": {},
   "outputs": [],
   "source": [
    "# %%time\n",
    "# #\n",
    "# #Take the columns 'comment_text' from train,\n",
    "# # then fillall NaN values by emtpy string '' (redundant)\n",
    "\n",
    "# # x_train = train['comment_text'].fillna('').values\n",
    "# #============================================================||\n",
    "# #VVV only uses a small SLICE of train. ^^^ uses ALL of train.||\n",
    "# #============================================================||\n",
    "# numSamples = 240\n",
    "# x_train = train['comment_text'].fillna('').values[:numSamples]\n",
    "# #if true, y_train[i] =1, if false, it is = 0\n",
    "# y_train = np.where(train['target'] >= 0.5, 1, 0)[:numSamples]\n",
    "# y_aux_train = train[['target', 'severe_toxicity', 'obscene', 'identity_attack', 'insult', 'threat']][:numSamples]\n",
    "\n",
    "\n",
    "# #\n",
    "# #Take the columns 'comment_text' from test,\n",
    "# # then fillall NaN values by emtpy string '' (redundant)\n",
    "# x_test = test['comment_text'].fillna('').values[:numSamples]"
   ]
  },
  {
   "cell_type": "code",
   "execution_count": 9,
   "metadata": {},
   "outputs": [
    {
     "name": "stdout",
     "output_type": "stream",
     "text": [
      "CPU times: user 360 ms, sys: 60 ms, total: 420 ms\n",
      "Wall time: 416 ms\n"
     ]
    }
   ],
   "source": [
    "%%time\n",
    "#\n",
    "#Take the columns 'comment_text' from train,\n",
    "# then fillall NaN values by emtpy string '' (redundant)\n",
    "\n",
    "x_train = train['comment_text'].fillna('').values\n",
    "#if true, y_train[i] =1, if false, it is = 0\n",
    "y_train = np.where(train['target'] >= 0.5, 1, 0)\n",
    "y_aux_train = train[['target', 'severe_toxicity', 'obscene', 'identity_attack', 'insult', 'threat']]\n",
    "\n",
    "\n",
    "#\n",
    "#Take the columns 'comment_text' from test,\n",
    "# then fillall NaN values by emtpy string '' (redundant)\n",
    "x_test = test['comment_text'].fillna('').values"
   ]
  },
  {
   "cell_type": "code",
   "execution_count": null,
   "metadata": {},
   "outputs": [],
   "source": [
    "# https://keras.io/preprocessing/text/\n",
    "# tokenizer is a class with some method\n",
    "tokenizer = text.Tokenizer(num_words=MAX_FEATURES)\n",
    "\n",
    "#we apply method fit_on_texts of tokenizer on x_train and x_test\n",
    "#it will initialize some parameters/attribute inside tokenizer\n",
    "#https://github.com/keras-team/keras-preprocessing/blob/master/keras_preprocessing/text.py#L139\n",
    "#https://github.com/keras-team/keras-preprocessing/blob/master/keras_preprocessing/text.py#L210\n",
    "\n",
    "tokenizer.fit_on_texts(list(x_train) + list(x_test))\n",
    "#for example, after fit_on_texts, we can type\n",
    "#tokenizer.word_counts #give a OderedDict\n",
    "#tokenizer.document_counts # an int\n",
    "#tokenizer.word_index is a dict of words with correponding indices\n",
    "#There are 410046 different words in all 'comment_text'\n",
    "#len(tokenizer.word_index) == 410_046\n",
    "\n",
    "\n",
    "#these words come from all 'comment_text' in training.csv and test.csv\n",
    "\n",
    "#tokenizer.index_word: the inverse of tokenizer.word_index"
   ]
  },
  {
   "cell_type": "code",
   "execution_count": null,
   "metadata": {},
   "outputs": [],
   "source": [
    "import pickle\n",
    "\n",
    "with open('tokenizer.pkl', 'wb') as f:  # Python 3: open(..., 'wb')\n",
    "    pickle.dump(tokenizer, f)"
   ]
  },
  {
   "cell_type": "code",
   "execution_count": 52,
   "metadata": {},
   "outputs": [
    {
     "name": "stdout",
     "output_type": "stream",
     "text": [
      "CPU times: user 2min 59s, sys: 0 ns, total: 2min 59s\n",
      "Wall time: 2min 59s\n"
     ]
    }
   ],
   "source": [
    "%%time\n",
    "\n",
    "\n",
    "\n",
    "#https://github.com/keras-team/keras-preprocessing/blob/master/keras_preprocessing/text.py#L267\n",
    "#we will convert each word in a comment_text to a number.\n",
    "#So a comment_text is a list of number.\n",
    "\n",
    "\n",
    "x_train = tokenizer.texts_to_sequences(x_train)\n",
    "x_test = tokenizer.texts_to_sequences(x_test)\n",
    "\n",
    "\n",
    "#https://keras.io/preprocessing/sequence/\n",
    "# https://github.com/keras-team/keras-preprocessing/blob/master/keras_preprocessing/sequence.py\n",
    "#each comment_text is now a list of word\n",
    "# we want the length of this list is a constant -> MAX_LEN\n",
    "# if the list is longer, then we cut/trim it \n",
    "# if shorter, then we add/pad it with 0's at the beginning\n",
    "x_train = sequence.pad_sequences(x_train, maxlen=MAX_LEN)\n",
    "x_test = sequence.pad_sequences(x_test, maxlen=MAX_LEN)"
   ]
  },
  {
   "cell_type": "code",
   "execution_count": 53,
   "metadata": {},
   "outputs": [
    {
     "name": "stderr",
     "output_type": "stream",
     "text": [
      "2000001it [02:22, 14079.70it/s]\n",
      "2196018it [02:57, 12379.79it/s]\n"
     ]
    },
    {
     "name": "stdout",
     "output_type": "stream",
     "text": [
      "CPU times: user 5min 22s, sys: 10.9 s, total: 5min 33s\n",
      "Wall time: 5min 35s\n"
     ]
    }
   ],
   "source": [
    "%%time\n",
    "# create an embedding_matrix \n",
    "#after this, embedding_matrix is a matrix of size\n",
    "# len(tokenizer.word_index)+1   x 600\n",
    "# we concatenate two matrices, 600 = 300+300\n",
    "embedding_matrix = np.concatenate(\n",
    "    [build_matrix(tokenizer.word_index, f) for f in EMBEDDING_FILES], axis=-1)\n",
    "#embedding_matrix.shape \n",
    "#== (410047, 600)\n",
    "\n",
    "#embedding_matrix[i] is a 600d vector representation of the word whose index is i\n",
    "#embedding_matrix[10]\n",
    "#tokenizer.index_word[10] == 'you'"
   ]
  },
  {
   "cell_type": "code",
   "execution_count": 55,
   "metadata": {},
   "outputs": [],
   "source": [
    "np.save('embedding_matrix', embedding_matrix)"
   ]
  },
  {
   "cell_type": "code",
   "execution_count": 64,
   "metadata": {},
   "outputs": [],
   "source": [
    "AAAskjdhfk = np.array([])"
   ]
  },
  {
   "cell_type": "code",
   "execution_count": 89,
   "metadata": {},
   "outputs": [
    {
     "data": {
      "text/plain": [
       "825"
      ]
     },
     "execution_count": 89,
     "metadata": {},
     "output_type": "execute_result"
    }
   ],
   "source": [
    "del embedding_matrix\n",
    "gc.collect()"
   ]
  },
  {
   "cell_type": "code",
   "execution_count": 93,
   "metadata": {},
   "outputs": [
    {
     "data": {
      "text/plain": [
       "'3.5.3 (default, Sep 27 2018, 17:25:39) \\n[GCC 6.3.0 20170516]'"
      ]
     },
     "execution_count": 93,
     "metadata": {},
     "output_type": "execute_result"
    }
   ],
   "source": [
    "import sys\n",
    "sys.version"
   ]
  },
  {
   "cell_type": "code",
   "execution_count": 90,
   "metadata": {
    "scrolled": false
   },
   "outputs": [
    {
     "name": "stdout",
     "output_type": "stream",
     "text": [
      "embedding_matrix.npy\r\n",
      "model.png\r\n",
      "README.md\r\n",
      "second-model-2019-06-26 14:19:54.312555.h5\r\n",
      "second-model-2019-06-26 20:56:15.282979.h5\r\n",
      "Simple LSTM - 1000voices V4.ipynb\r\n",
      "Simple LSTM - 1000voices V4-Original.ipynb\r\n",
      "submission.csv\r\n"
     ]
    }
   ],
   "source": [
    "!ls"
   ]
  },
  {
   "cell_type": "code",
   "execution_count": 80,
   "metadata": {
    "scrolled": false
   },
   "outputs": [],
   "source": [
    "AAAskjdhfk = np.load('embedding_matrix.npy')"
   ]
  },
  {
   "cell_type": "code",
   "execution_count": 81,
   "metadata": {},
   "outputs": [
    {
     "data": {
      "text/plain": [
       "(410047, 600)"
      ]
     },
     "execution_count": 81,
     "metadata": {},
     "output_type": "execute_result"
    }
   ],
   "source": [
    "AAAskjdhfk.shape"
   ]
  },
  {
   "cell_type": "code",
   "execution_count": 66,
   "metadata": {},
   "outputs": [
    {
     "name": "stdout",
     "output_type": "stream",
     "text": [
      "file not found\n",
      "hello\n"
     ]
    },
    {
     "data": {
      "text/plain": [
       "(0,)"
      ]
     },
     "execution_count": 66,
     "metadata": {},
     "output_type": "execute_result"
    }
   ],
   "source": [
    "try:\n",
    "    AAAskjdhfk = np.load('embedding_matrix.npy')\n",
    "except:\n",
    "    print(\"file not found\")\n",
    "print(\"hello\")\n",
    "AAAskjdhfk.shape"
   ]
  },
  {
   "cell_type": "code",
   "execution_count": 54,
   "metadata": {
    "scrolled": false
   },
   "outputs": [
    {
     "data": {
      "text/plain": [
       "(1804874, 220)"
      ]
     },
     "execution_count": 54,
     "metadata": {},
     "output_type": "execute_result"
    }
   ],
   "source": [
    "x_train.shape"
   ]
  },
  {
   "cell_type": "markdown",
   "metadata": {},
   "source": [
    "NEXT 2019Jun26T164556Z-0500 save embedding to file. check if embedding file exists, if not, create embedding and save it to file"
   ]
  },
  {
   "cell_type": "markdown",
   "metadata": {},
   "source": [
    "## Repeat from here if using different slice of train"
   ]
  },
  {
   "cell_type": "markdown",
   "metadata": {},
   "source": [
    "## Repeat from here if using different model parameters"
   ]
  },
  {
   "cell_type": "code",
   "execution_count": 84,
   "metadata": {},
   "outputs": [
    {
     "ename": "MemoryError",
     "evalue": "",
     "output_type": "error",
     "traceback": [
      "\u001b[0;31m---------------------------------------------------------------------------\u001b[0m",
      "\u001b[0;31mMemoryError\u001b[0m                               Traceback (most recent call last)",
      "\u001b[0;32m<timed exec>\u001b[0m in \u001b[0;36m<module>\u001b[0;34m\u001b[0m\n",
      "\u001b[0;32m<ipython-input-7-255e58783921>\u001b[0m in \u001b[0;36mbuild_model\u001b[0;34m(embedding_matrix, num_aux_targets)\u001b[0m\n\u001b[1;32m     13\u001b[0m     \u001b[0;31m# have to say that parameters in this layer are not trainable\u001b[0m\u001b[0;34m\u001b[0m\u001b[0;34m\u001b[0m\u001b[0m\n\u001b[1;32m     14\u001b[0m     \u001b[0;31m# x is a vector of 600 dimension\u001b[0m\u001b[0;34m\u001b[0m\u001b[0;34m\u001b[0m\u001b[0m\n\u001b[0;32m---> 15\u001b[0;31m     \u001b[0mx\u001b[0m \u001b[0;34m=\u001b[0m \u001b[0mEmbedding\u001b[0m\u001b[0;34m(\u001b[0m\u001b[0;34m*\u001b[0m\u001b[0membedding_matrix\u001b[0m\u001b[0;34m.\u001b[0m\u001b[0mshape\u001b[0m\u001b[0;34m,\u001b[0m \u001b[0mweights\u001b[0m\u001b[0;34m=\u001b[0m\u001b[0;34m[\u001b[0m\u001b[0membedding_matrix\u001b[0m\u001b[0;34m]\u001b[0m\u001b[0;34m,\u001b[0m \u001b[0mtrainable\u001b[0m\u001b[0;34m=\u001b[0m\u001b[0;32mFalse\u001b[0m\u001b[0;34m)\u001b[0m\u001b[0;34m(\u001b[0m\u001b[0mwords\u001b[0m\u001b[0;34m)\u001b[0m\u001b[0;34m\u001b[0m\u001b[0m\n\u001b[0m\u001b[1;32m     16\u001b[0m \u001b[0;34m\u001b[0m\u001b[0m\n\u001b[1;32m     17\u001b[0m     \u001b[0;31m#*embedding_matrix.shape is a short way for\u001b[0m\u001b[0;34m\u001b[0m\u001b[0;34m\u001b[0m\u001b[0m\n",
      "\u001b[0;32m/usr/local/lib/python3.5/dist-packages/keras/engine/base_layer.py\u001b[0m in \u001b[0;36m__call__\u001b[0;34m(self, inputs, **kwargs)\u001b[0m\n\u001b[1;32m    434\u001b[0m                 \u001b[0;31m# Load weights that were specified at layer instantiation.\u001b[0m\u001b[0;34m\u001b[0m\u001b[0;34m\u001b[0m\u001b[0m\n\u001b[1;32m    435\u001b[0m                 \u001b[0;32mif\u001b[0m \u001b[0mself\u001b[0m\u001b[0;34m.\u001b[0m\u001b[0m_initial_weights\u001b[0m \u001b[0;32mis\u001b[0m \u001b[0;32mnot\u001b[0m \u001b[0;32mNone\u001b[0m\u001b[0;34m:\u001b[0m\u001b[0;34m\u001b[0m\u001b[0m\n\u001b[0;32m--> 436\u001b[0;31m                     \u001b[0mself\u001b[0m\u001b[0;34m.\u001b[0m\u001b[0mset_weights\u001b[0m\u001b[0;34m(\u001b[0m\u001b[0mself\u001b[0m\u001b[0;34m.\u001b[0m\u001b[0m_initial_weights\u001b[0m\u001b[0;34m)\u001b[0m\u001b[0;34m\u001b[0m\u001b[0m\n\u001b[0m\u001b[1;32m    437\u001b[0m \u001b[0;34m\u001b[0m\u001b[0m\n\u001b[1;32m    438\u001b[0m             \u001b[0;31m# Raise exceptions in case the input is not compatible\u001b[0m\u001b[0;34m\u001b[0m\u001b[0;34m\u001b[0m\u001b[0m\n",
      "\u001b[0;32m/usr/local/lib/python3.5/dist-packages/keras/engine/base_layer.py\u001b[0m in \u001b[0;36mset_weights\u001b[0;34m(self, weights)\u001b[0m\n\u001b[1;32m   1057\u001b[0m                                  'provided weight shape ' + str(w.shape))\n\u001b[1;32m   1058\u001b[0m             \u001b[0mweight_value_tuples\u001b[0m\u001b[0;34m.\u001b[0m\u001b[0mappend\u001b[0m\u001b[0;34m(\u001b[0m\u001b[0;34m(\u001b[0m\u001b[0mp\u001b[0m\u001b[0;34m,\u001b[0m \u001b[0mw\u001b[0m\u001b[0;34m)\u001b[0m\u001b[0;34m)\u001b[0m\u001b[0;34m\u001b[0m\u001b[0m\n\u001b[0;32m-> 1059\u001b[0;31m         \u001b[0mK\u001b[0m\u001b[0;34m.\u001b[0m\u001b[0mbatch_set_value\u001b[0m\u001b[0;34m(\u001b[0m\u001b[0mweight_value_tuples\u001b[0m\u001b[0;34m)\u001b[0m\u001b[0;34m\u001b[0m\u001b[0m\n\u001b[0m\u001b[1;32m   1060\u001b[0m \u001b[0;34m\u001b[0m\u001b[0m\n\u001b[1;32m   1061\u001b[0m     \u001b[0;32mdef\u001b[0m \u001b[0mget_weights\u001b[0m\u001b[0;34m(\u001b[0m\u001b[0mself\u001b[0m\u001b[0;34m)\u001b[0m\u001b[0;34m:\u001b[0m\u001b[0;34m\u001b[0m\u001b[0m\n",
      "\u001b[0;32m/usr/local/lib/python3.5/dist-packages/keras/backend/tensorflow_backend.py\u001b[0m in \u001b[0;36mbatch_set_value\u001b[0;34m(tuples)\u001b[0m\n\u001b[1;32m   2455\u001b[0m         \u001b[0mfeed_dict\u001b[0m \u001b[0;34m=\u001b[0m \u001b[0;34m{\u001b[0m\u001b[0;34m}\u001b[0m\u001b[0;34m\u001b[0m\u001b[0m\n\u001b[1;32m   2456\u001b[0m         \u001b[0;32mfor\u001b[0m \u001b[0mx\u001b[0m\u001b[0;34m,\u001b[0m \u001b[0mvalue\u001b[0m \u001b[0;32min\u001b[0m \u001b[0mtuples\u001b[0m\u001b[0;34m:\u001b[0m\u001b[0;34m\u001b[0m\u001b[0m\n\u001b[0;32m-> 2457\u001b[0;31m             \u001b[0mvalue\u001b[0m \u001b[0;34m=\u001b[0m \u001b[0mnp\u001b[0m\u001b[0;34m.\u001b[0m\u001b[0masarray\u001b[0m\u001b[0;34m(\u001b[0m\u001b[0mvalue\u001b[0m\u001b[0;34m,\u001b[0m \u001b[0mdtype\u001b[0m\u001b[0;34m=\u001b[0m\u001b[0mdtype\u001b[0m\u001b[0;34m(\u001b[0m\u001b[0mx\u001b[0m\u001b[0;34m)\u001b[0m\u001b[0;34m)\u001b[0m\u001b[0;34m\u001b[0m\u001b[0m\n\u001b[0m\u001b[1;32m   2458\u001b[0m             \u001b[0mtf_dtype\u001b[0m \u001b[0;34m=\u001b[0m \u001b[0mtf\u001b[0m\u001b[0;34m.\u001b[0m\u001b[0mas_dtype\u001b[0m\u001b[0;34m(\u001b[0m\u001b[0mx\u001b[0m\u001b[0;34m.\u001b[0m\u001b[0mdtype\u001b[0m\u001b[0;34m.\u001b[0m\u001b[0mname\u001b[0m\u001b[0;34m.\u001b[0m\u001b[0msplit\u001b[0m\u001b[0;34m(\u001b[0m\u001b[0;34m'_'\u001b[0m\u001b[0;34m)\u001b[0m\u001b[0;34m[\u001b[0m\u001b[0;36m0\u001b[0m\u001b[0;34m]\u001b[0m\u001b[0;34m)\u001b[0m\u001b[0;34m\u001b[0m\u001b[0m\n\u001b[1;32m   2459\u001b[0m             \u001b[0;32mif\u001b[0m \u001b[0mhasattr\u001b[0m\u001b[0;34m(\u001b[0m\u001b[0mx\u001b[0m\u001b[0;34m,\u001b[0m \u001b[0;34m'_assign_placeholder'\u001b[0m\u001b[0;34m)\u001b[0m\u001b[0;34m:\u001b[0m\u001b[0;34m\u001b[0m\u001b[0m\n",
      "\u001b[0;32m/usr/local/lib/python3.5/dist-packages/numpy/core/numeric.py\u001b[0m in \u001b[0;36masarray\u001b[0;34m(a, dtype, order)\u001b[0m\n\u001b[1;32m    536\u001b[0m \u001b[0;34m\u001b[0m\u001b[0m\n\u001b[1;32m    537\u001b[0m     \"\"\"\n\u001b[0;32m--> 538\u001b[0;31m     \u001b[0;32mreturn\u001b[0m \u001b[0marray\u001b[0m\u001b[0;34m(\u001b[0m\u001b[0ma\u001b[0m\u001b[0;34m,\u001b[0m \u001b[0mdtype\u001b[0m\u001b[0;34m,\u001b[0m \u001b[0mcopy\u001b[0m\u001b[0;34m=\u001b[0m\u001b[0;32mFalse\u001b[0m\u001b[0;34m,\u001b[0m \u001b[0morder\u001b[0m\u001b[0;34m=\u001b[0m\u001b[0morder\u001b[0m\u001b[0;34m)\u001b[0m\u001b[0;34m\u001b[0m\u001b[0m\n\u001b[0m\u001b[1;32m    539\u001b[0m \u001b[0;34m\u001b[0m\u001b[0m\n\u001b[1;32m    540\u001b[0m \u001b[0;34m\u001b[0m\u001b[0m\n",
      "\u001b[0;31mMemoryError\u001b[0m: "
     ]
    }
   ],
   "source": [
    "%%time\n",
    "checkpoint_predictions = []\n",
    "weights = []\n",
    "modelArr = []\n",
    "numSamples = 240 # up to 1804874\n",
    "\n",
    "\n",
    "#https://keras.io/callbacks/#learningratescheduler\n",
    "\n",
    "for model_idx in range(NUM_MODELS):\n",
    "  # build the same models\n",
    "    model = build_model(embedding_matrix, y_aux_train.shape[-1])\n",
    "  # We train each model EPOCHS times\n",
    "  # After each epoch, we reset learning rate (we are using Adam Optimizer)  \n",
    "  # https://towardsdatascience.com/learning-rate-scheduler-d8a55747dd90\n",
    "\n",
    "  # https://github.com/keras-team/keras/blob/master/keras/callbacks.py#L921\n",
    "  # learningrate is the attribute 'lr' from Adam optimizer\n",
    "  # see https://github.com/keras-team/keras/blob/master/keras/optimizers.py#L460\n",
    "  # In Adam Optimizer, learning rate is changing after each batch\n",
    "    for global_epoch in range(EPOCHS):\n",
    "        model.fit(\n",
    "            x_train[:numSamples],\n",
    "            [y_train[:numSamples], y_aux_train[:numSamples]],\n",
    "            batch_size=BATCH_SIZE,\n",
    "            epochs=1,\n",
    "            verbose=1,\n",
    "            callbacks=[\n",
    "                LearningRateScheduler(lambda epoch: 1e-3 * (0.6 ** global_epoch), verbose = 1)\n",
    "            ]\n",
    "        )\n",
    "        #model.predict will give two outputs: main_output (target) and aux_output\n",
    "        #we only take main_output\n",
    "        checkpoint_predictions.append(model.predict(x_test, batch_size=2048)[0].flatten())\n",
    "        weights.append(2 ** global_epoch)\n",
    "        \n",
    "        modelArr.append(model) #not sure if this should be indented 2 tabs or 1."
   ]
  },
  {
   "cell_type": "code",
   "execution_count": 42,
   "metadata": {},
   "outputs": [],
   "source": [
    "#take average (with weights) of predictions from two models\n",
    "#predictions is an np.array\n",
    "predictions = np.average(checkpoint_predictions, weights=weights, axis=0)"
   ]
  },
  {
   "cell_type": "code",
   "execution_count": 44,
   "metadata": {},
   "outputs": [],
   "source": [
    "submission = pd.DataFrame.from_dict({\n",
    "    'id': test['id'][:numSamples],\n",
    "    'prediction': predictions\n",
    "})\n",
    "\n",
    "submission.to_csv('submission.csv', index=False)"
   ]
  },
  {
   "cell_type": "markdown",
   "metadata": {},
   "source": [
    "do not stop this kernel\n",
    "\n",
    "look into how to save the model?"
   ]
  },
  {
   "cell_type": "markdown",
   "metadata": {},
   "source": [
    "# Prediction on Input String"
   ]
  },
  {
   "cell_type": "code",
   "execution_count": 45,
   "metadata": {
    "scrolled": true
   },
   "outputs": [],
   "source": [
    "strHist = {}"
   ]
  },
  {
   "cell_type": "code",
   "execution_count": 48,
   "metadata": {},
   "outputs": [],
   "source": [
    "#one liner to get prediction for any string using the last model (NOTE: removes words that aren't in tokenizer.word_index)\n",
    "inputStr = \"Trump is a piece of shit\"\n",
    "strHist[inputStr] = model.predict(sequence.pad_sequences(tokenizer.texts_to_sequences(np.array([inputStr], dtype=object)), maxlen=MAX_LEN), batch_size=2048)[0].flatten()[0]"
   ]
  },
  {
   "cell_type": "code",
   "execution_count": 49,
   "metadata": {},
   "outputs": [
    {
     "data": {
      "text/plain": [
       "{'Trump is a piece': 0.24946725, 'Trump is a piece of shit': 0.20809196}"
      ]
     },
     "execution_count": 49,
     "metadata": {},
     "output_type": "execute_result"
    }
   ],
   "source": [
    "strHist"
   ]
  },
  {
   "cell_type": "markdown",
   "metadata": {},
   "source": [
    "# analysis after running notebook"
   ]
  },
  {
   "cell_type": "code",
   "execution_count": 18,
   "metadata": {
    "scrolled": true
   },
   "outputs": [
    {
     "name": "stdout",
     "output_type": "stream",
     "text": [
      "Variable                 Type         Data/Info\n",
      "-----------------------------------------------\n",
      "Adam                     type         <class 'keras.optimizers.Adam'>\n",
      "BATCH_SIZE               int          512\n",
      "Bidirectional            type         <class 'keras.layers.wrappers.Bidirectional'>\n",
      "CuDNNLSTM                type         <class 'keras.layers.cudnn_recurrent.CuDNNLSTM'>\n",
      "DENSE_HIDDEN_UNITS       int          512\n",
      "Dense                    type         <class 'keras.layers.core.Dense'>\n",
      "Dropout                  type         <class 'keras.layers.core.Dropout'>\n",
      "EMBEDDING_FILES          list         n=2\n",
      "EPOCHS                   int          4\n",
      "Embedding                type         <class 'keras.layers.embeddings.Embedding'>\n",
      "GlobalAveragePooling1D   type         <class 'keras.layers.pool<...>.GlobalAveragePooling1D'>\n",
      "GlobalMaxPooling1D       type         <class 'keras.layers.pooling.GlobalMaxPooling1D'>\n",
      "Input                    function     <function Input at 0x7f0ca737d378>\n",
      "LSTM_UNITS               int          128\n",
      "LearningRateScheduler    type         <class 'keras.callbacks.LearningRateScheduler'>\n",
      "MAX_FEATURES             int          100000\n",
      "MAX_LEN                  int          220\n",
      "Model                    type         <class 'keras.engine.training.Model'>\n",
      "NUM_MODELS               int          2\n",
      "SpatialDropout1D         type         <class 'keras.layers.core.SpatialDropout1D'>\n",
      "add                      function     <function add at 0x7f0ca73d0268>\n",
      "build_matrix             function     <function build_matrix at 0x7f0ca72818c8>\n",
      "build_model              function     <function build_model at 0x7f0ca7281d90>\n",
      "checkpoint_predictions   list         n=8\n",
      "concatenate              function     <function concatenate at 0x7f0ca735b9d8>\n",
      "embedding_matrix         ndarray      410047x600: 246028200 elems, type `float64`, 1968225600 bytes (1877.0462036132812 Mb)\n",
      "get_coefs                function     <function get_coefs at 0x7f0ca7281598>\n",
      "global_epoch             int          3\n",
      "inputStr                 str          Trump is a piece\n",
      "load_embeddings          function     <function load_embeddings at 0x7f0ca7281620>\n",
      "model                    Model        <keras.engine.training.Mo<...>object at 0x7f0716769278>\n",
      "modelArr                 list         n=8\n",
      "model_idx                int          1\n",
      "np                       module       <module 'numpy' from '/us<...>kages/numpy/__init__.py'>\n",
      "numSamples               int          24000\n",
      "pd                       module       <module 'pandas' from '/u<...>ages/pandas/__init__.py'>\n",
      "predictions              ndarray      97320: 97320 elems, type `float64`, 778560 bytes (760.3125 kb)\n",
      "sequence                 module       <module 'keras.preprocess<...>eprocessing/sequence.py'>\n",
      "strHist                  dict         n=1\n",
      "submission               DataFrame                id  predictio<...>n[97320 rows x 2 columns]\n",
      "test                     DataFrame                id           <...>n[97320 rows x 2 columns]\n",
      "text                     module       <module 'keras.preprocess<...>s/preprocessing/text.py'>\n",
      "tokenizer                Tokenizer    <keras_preprocessing.text<...>object at 0x7f0ca5179320>\n",
      "tqdm                     type         <class 'tqdm._tqdm.tqdm'>\n",
      "train                    DataFrame                  id    targe<...>804874 rows x 45 columns]\n",
      "weights                  list         n=8\n",
      "x_test                   ndarray      97320x220: 21410400 elems, type `int32`, 85641600 bytes (81.6741943359375 Mb)\n",
      "x_train                  ndarray      1804874x220: 397072280 elems, type `int32`, 1588289120 bytes (1514.7105407714844 Mb)\n",
      "y_aux_train              DataFrame               target  severe<...>1804874 rows x 6 columns]\n",
      "y_train                  ndarray      1804874: 1804874 elems, type `int64`, 14438992 bytes (13.770095825195312 Mb)\n"
     ]
    }
   ],
   "source": [
    "%whos"
   ]
  },
  {
   "cell_type": "code",
   "execution_count": 19,
   "metadata": {},
   "outputs": [
    {
     "data": {
      "text/plain": [
       "(0.0018161535, 0.0007586777)"
      ]
     },
     "execution_count": 19,
     "metadata": {},
     "output_type": "execute_result"
    }
   ],
   "source": [
    "(checkpoint_predictions[0][0]),(checkpoint_predictions[1][0])"
   ]
  },
  {
   "cell_type": "code",
   "execution_count": 20,
   "metadata": {},
   "outputs": [],
   "source": [
    "from keras.models import load_model"
   ]
  },
  {
   "cell_type": "code",
   "execution_count": 21,
   "metadata": {},
   "outputs": [
    {
     "data": {
      "text/plain": [
       "['second-model-2019-06-26 14:19:54.312555.h5',\n",
       " '.gitignore',\n",
       " 'README.md',\n",
       " 'model.png',\n",
       " '.git',\n",
       " '.ipynb_checkpoints',\n",
       " 'submission.csv',\n",
       " 'Simple LSTM - 1000voices V4-Original.ipynb',\n",
       " 'Simple LSTM - 1000voices V4.ipynb']"
      ]
     },
     "execution_count": 21,
     "metadata": {},
     "output_type": "execute_result"
    }
   ],
   "source": [
    "import os\n",
    "os.listdir()"
   ]
  },
  {
   "cell_type": "code",
   "execution_count": 22,
   "metadata": {},
   "outputs": [],
   "source": [
    "import datetime"
   ]
  },
  {
   "cell_type": "code",
   "execution_count": 23,
   "metadata": {},
   "outputs": [],
   "source": [
    "dateStr = \"second-model-\"+str(datetime.datetime.now())+\".h5\"\n",
    "model.save(dateStr)"
   ]
  },
  {
   "cell_type": "code",
   "execution_count": 24,
   "metadata": {},
   "outputs": [
    {
     "data": {
      "text/plain": [
       "['second-model-2019-06-26 14:19:54.312555.h5',\n",
       " '.gitignore',\n",
       " 'README.md',\n",
       " 'model.png',\n",
       " '.git',\n",
       " '.ipynb_checkpoints',\n",
       " 'submission.csv',\n",
       " 'Simple LSTM - 1000voices V4-Original.ipynb',\n",
       " 'second-model-2019-06-26 20:56:15.282979.h5',\n",
       " 'Simple LSTM - 1000voices V4.ipynb']"
      ]
     },
     "execution_count": 24,
     "metadata": {},
     "output_type": "execute_result"
    }
   ],
   "source": [
    "os.listdir()"
   ]
  },
  {
   "cell_type": "code",
   "execution_count": 25,
   "metadata": {},
   "outputs": [
    {
     "name": "stdout",
     "output_type": "stream",
     "text": [
      "Variable                 Type         Data/Info\n",
      "-----------------------------------------------\n",
      "Adam                     type         <class 'keras.optimizers.Adam'>\n",
      "BATCH_SIZE               int          512\n",
      "Bidirectional            type         <class 'keras.layers.wrappers.Bidirectional'>\n",
      "CuDNNLSTM                type         <class 'keras.layers.cudnn_recurrent.CuDNNLSTM'>\n",
      "DENSE_HIDDEN_UNITS       int          512\n",
      "Dense                    type         <class 'keras.layers.core.Dense'>\n",
      "Dropout                  type         <class 'keras.layers.core.Dropout'>\n",
      "EMBEDDING_FILES          list         n=2\n",
      "EPOCHS                   int          4\n",
      "Embedding                type         <class 'keras.layers.embeddings.Embedding'>\n",
      "GlobalAveragePooling1D   type         <class 'keras.layers.pool<...>.GlobalAveragePooling1D'>\n",
      "GlobalMaxPooling1D       type         <class 'keras.layers.pooling.GlobalMaxPooling1D'>\n",
      "Input                    function     <function Input at 0x7f0ca737d378>\n",
      "LSTM_UNITS               int          128\n",
      "LearningRateScheduler    type         <class 'keras.callbacks.LearningRateScheduler'>\n",
      "MAX_FEATURES             int          100000\n",
      "MAX_LEN                  int          220\n",
      "Model                    type         <class 'keras.engine.training.Model'>\n",
      "NUM_MODELS               int          2\n",
      "SpatialDropout1D         type         <class 'keras.layers.core.SpatialDropout1D'>\n",
      "add                      function     <function add at 0x7f0ca73d0268>\n",
      "build_matrix             function     <function build_matrix at 0x7f0ca72818c8>\n",
      "build_model              function     <function build_model at 0x7f0ca7281d90>\n",
      "checkpoint_predictions   list         n=8\n",
      "concatenate              function     <function concatenate at 0x7f0ca735b9d8>\n",
      "dateStr                  str          second-model-2019-06-26 20:56:15.282979.h5\n",
      "datetime                 module       <module 'datetime' from '<...>b/python3.5/datetime.py'>\n",
      "embedding_matrix         ndarray      410047x600: 246028200 elems, type `float64`, 1968225600 bytes (1877.0462036132812 Mb)\n",
      "get_coefs                function     <function get_coefs at 0x7f0ca7281598>\n",
      "global_epoch             int          3\n",
      "inputStr                 str          Trump is a piece\n",
      "load_embeddings          function     <function load_embeddings at 0x7f0ca7281620>\n",
      "load_model               function     <function load_model at 0x7f0ca73a69d8>\n",
      "model                    Model        <keras.engine.training.Mo<...>object at 0x7f0716769278>\n",
      "modelArr                 list         n=8\n",
      "model_idx                int          1\n",
      "np                       module       <module 'numpy' from '/us<...>kages/numpy/__init__.py'>\n",
      "numSamples               int          24000\n",
      "os                       module       <module 'os' from '/usr/lib/python3.5/os.py'>\n",
      "pd                       module       <module 'pandas' from '/u<...>ages/pandas/__init__.py'>\n",
      "predictions              ndarray      97320: 97320 elems, type `float64`, 778560 bytes (760.3125 kb)\n",
      "sequence                 module       <module 'keras.preprocess<...>eprocessing/sequence.py'>\n",
      "strHist                  dict         n=1\n",
      "submission               DataFrame                id  predictio<...>n[97320 rows x 2 columns]\n",
      "test                     DataFrame                id           <...>n[97320 rows x 2 columns]\n",
      "text                     module       <module 'keras.preprocess<...>s/preprocessing/text.py'>\n",
      "tokenizer                Tokenizer    <keras_preprocessing.text<...>object at 0x7f0ca5179320>\n",
      "tqdm                     type         <class 'tqdm._tqdm.tqdm'>\n",
      "train                    DataFrame                  id    targe<...>804874 rows x 45 columns]\n",
      "weights                  list         n=8\n",
      "x_test                   ndarray      97320x220: 21410400 elems, type `int32`, 85641600 bytes (81.6741943359375 Mb)\n",
      "x_train                  ndarray      1804874x220: 397072280 elems, type `int32`, 1588289120 bytes (1514.7105407714844 Mb)\n",
      "y_aux_train              DataFrame               target  severe<...>1804874 rows x 6 columns]\n",
      "y_train                  ndarray      1804874: 1804874 elems, type `int64`, 14438992 bytes (13.770095825195312 Mb)\n"
     ]
    }
   ],
   "source": [
    "%whos"
   ]
  },
  {
   "cell_type": "code",
   "execution_count": 26,
   "metadata": {},
   "outputs": [],
   "source": [
    "modelh5 = load_model(\"second-model-2019-06-26 14:19:54.312555.h5\")"
   ]
  },
  {
   "cell_type": "code",
   "execution_count": 27,
   "metadata": {
    "scrolled": true
   },
   "outputs": [
    {
     "name": "stdout",
     "output_type": "stream",
     "text": [
      "Variable                 Type         Data/Info\n",
      "-----------------------------------------------\n",
      "Adam                     type         <class 'keras.optimizers.Adam'>\n",
      "BATCH_SIZE               int          512\n",
      "Bidirectional            type         <class 'keras.layers.wrappers.Bidirectional'>\n",
      "CuDNNLSTM                type         <class 'keras.layers.cudnn_recurrent.CuDNNLSTM'>\n",
      "DENSE_HIDDEN_UNITS       int          512\n",
      "Dense                    type         <class 'keras.layers.core.Dense'>\n",
      "Dropout                  type         <class 'keras.layers.core.Dropout'>\n",
      "EMBEDDING_FILES          list         n=2\n",
      "EPOCHS                   int          4\n",
      "Embedding                type         <class 'keras.layers.embeddings.Embedding'>\n",
      "GlobalAveragePooling1D   type         <class 'keras.layers.pool<...>.GlobalAveragePooling1D'>\n",
      "GlobalMaxPooling1D       type         <class 'keras.layers.pooling.GlobalMaxPooling1D'>\n",
      "Input                    function     <function Input at 0x7f0ca737d378>\n",
      "LSTM_UNITS               int          128\n",
      "LearningRateScheduler    type         <class 'keras.callbacks.LearningRateScheduler'>\n",
      "MAX_FEATURES             int          100000\n",
      "MAX_LEN                  int          220\n",
      "Model                    type         <class 'keras.engine.training.Model'>\n",
      "NUM_MODELS               int          2\n",
      "SpatialDropout1D         type         <class 'keras.layers.core.SpatialDropout1D'>\n",
      "add                      function     <function add at 0x7f0ca73d0268>\n",
      "build_matrix             function     <function build_matrix at 0x7f0ca72818c8>\n",
      "build_model              function     <function build_model at 0x7f0ca7281d90>\n",
      "checkpoint_predictions   list         n=8\n",
      "concatenate              function     <function concatenate at 0x7f0ca735b9d8>\n",
      "dateStr                  str          second-model-2019-06-26 20:56:15.282979.h5\n",
      "datetime                 module       <module 'datetime' from '<...>b/python3.5/datetime.py'>\n",
      "embedding_matrix         ndarray      410047x600: 246028200 elems, type `float64`, 1968225600 bytes (1877.0462036132812 Mb)\n",
      "get_coefs                function     <function get_coefs at 0x7f0ca7281598>\n",
      "global_epoch             int          3\n",
      "inputStr                 str          Trump is a piece\n",
      "load_embeddings          function     <function load_embeddings at 0x7f0ca7281620>\n",
      "load_model               function     <function load_model at 0x7f0ca73a69d8>\n",
      "model                    Model        <keras.engine.training.Mo<...>object at 0x7f0716769278>\n",
      "modelArr                 list         n=8\n",
      "model_idx                int          1\n",
      "modelh5                  Model        <keras.engine.training.Mo<...>object at 0x7f06cd252828>\n",
      "np                       module       <module 'numpy' from '/us<...>kages/numpy/__init__.py'>\n",
      "numSamples               int          24000\n",
      "os                       module       <module 'os' from '/usr/lib/python3.5/os.py'>\n",
      "pd                       module       <module 'pandas' from '/u<...>ages/pandas/__init__.py'>\n",
      "predictions              ndarray      97320: 97320 elems, type `float64`, 778560 bytes (760.3125 kb)\n",
      "sequence                 module       <module 'keras.preprocess<...>eprocessing/sequence.py'>\n",
      "strHist                  dict         n=1\n",
      "submission               DataFrame                id  predictio<...>n[97320 rows x 2 columns]\n",
      "test                     DataFrame                id           <...>n[97320 rows x 2 columns]\n",
      "text                     module       <module 'keras.preprocess<...>s/preprocessing/text.py'>\n",
      "tokenizer                Tokenizer    <keras_preprocessing.text<...>object at 0x7f0ca5179320>\n",
      "tqdm                     type         <class 'tqdm._tqdm.tqdm'>\n",
      "train                    DataFrame                  id    targe<...>804874 rows x 45 columns]\n",
      "weights                  list         n=8\n",
      "x_test                   ndarray      97320x220: 21410400 elems, type `int32`, 85641600 bytes (81.6741943359375 Mb)\n",
      "x_train                  ndarray      1804874x220: 397072280 elems, type `int32`, 1588289120 bytes (1514.7105407714844 Mb)\n",
      "y_aux_train              DataFrame               target  severe<...>1804874 rows x 6 columns]\n",
      "y_train                  ndarray      1804874: 1804874 elems, type `int64`, 14438992 bytes (13.770095825195312 Mb)\n"
     ]
    }
   ],
   "source": [
    "%whos"
   ]
  },
  {
   "cell_type": "code",
   "execution_count": 28,
   "metadata": {},
   "outputs": [
    {
     "data": {
      "text/plain": [
       "{'Trump is a piece': 0.24335428}"
      ]
     },
     "execution_count": 28,
     "metadata": {},
     "output_type": "execute_result"
    }
   ],
   "source": [
    "strHist"
   ]
  },
  {
   "cell_type": "code",
   "execution_count": 29,
   "metadata": {},
   "outputs": [],
   "source": [
    "#one liner to get prediction for any string using the last model (NOTE: removes words that aren't in tokenizer.word_index)\n",
    "inputStr = \"Trump is a piece\"# of shit\"\n",
    "strHist[inputStr] = modelh5.predict(sequence.pad_sequences(tokenizer.texts_to_sequences(np.array([inputStr], dtype=object)), maxlen=MAX_LEN), batch_size=2048)[0].flatten()[0]"
   ]
  },
  {
   "cell_type": "code",
   "execution_count": 30,
   "metadata": {},
   "outputs": [
    {
     "data": {
      "text/plain": [
       "{'Trump is a piece': 0.13538606}"
      ]
     },
     "execution_count": 30,
     "metadata": {},
     "output_type": "execute_result"
    }
   ],
   "source": [
    "strHist"
   ]
  },
  {
   "cell_type": "code",
   "execution_count": 31,
   "metadata": {},
   "outputs": [],
   "source": [
    "#one liner to get prediction for any string using the last model (NOTE: removes words that aren't in tokenizer.word_index)\n",
    "inputStr = \"The original origin of the word fuck was as an acronym \"# of shit\"\n",
    "strHist[inputStr] = modelh5.predict(sequence.pad_sequences(tokenizer.texts_to_sequences(np.array([inputStr], dtype=object)), maxlen=MAX_LEN), batch_size=2048)[0].flatten()[0]"
   ]
  },
  {
   "cell_type": "code",
   "execution_count": 32,
   "metadata": {},
   "outputs": [
    {
     "data": {
      "text/plain": [
       "{'The original origin of the word fuck was as an acronym ': 0.9142857,\n",
       " 'Trump is a piece': 0.13538606}"
      ]
     },
     "execution_count": 32,
     "metadata": {},
     "output_type": "execute_result"
    }
   ],
   "source": [
    "strHist"
   ]
  },
  {
   "cell_type": "code",
   "execution_count": 33,
   "metadata": {},
   "outputs": [
    {
     "data": {
      "text/plain": [
       "(410047, 600)"
      ]
     },
     "execution_count": 33,
     "metadata": {},
     "output_type": "execute_result"
    }
   ],
   "source": [
    "embedding_matrix.shape"
   ]
  },
  {
   "cell_type": "code",
   "execution_count": 34,
   "metadata": {},
   "outputs": [
    {
     "name": "stdout",
     "output_type": "stream",
     "text": [
      "__________________________________________________________________________________________________\n",
      "Layer (type)                    Output Shape         Param #     Connected to                     \n",
      "==================================================================================================\n",
      "input_2 (InputLayer)            (None, 220)          0                                            \n",
      "__________________________________________________________________________________________________\n",
      "embedding_2 (Embedding)         (None, 220, 600)     246028200   input_2[0][0]                    \n",
      "__________________________________________________________________________________________________\n",
      "spatial_dropout1d_2 (SpatialDro (None, 220, 600)     0           embedding_2[0][0]                \n",
      "__________________________________________________________________________________________________\n",
      "bidirectional_3 (Bidirectional) (None, 220, 256)     747520      spatial_dropout1d_2[0][0]        \n",
      "__________________________________________________________________________________________________\n",
      "bidirectional_4 (Bidirectional) (None, 220, 256)     395264      bidirectional_3[0][0]            \n",
      "__________________________________________________________________________________________________\n",
      "global_max_pooling1d_2 (GlobalM (None, 256)          0           bidirectional_4[0][0]            \n",
      "__________________________________________________________________________________________________\n",
      "global_average_pooling1d_2 (Glo (None, 256)          0           bidirectional_4[0][0]            \n",
      "__________________________________________________________________________________________________\n",
      "concatenate_2 (Concatenate)     (None, 512)          0           global_max_pooling1d_2[0][0]     \n",
      "                                                                 global_average_pooling1d_2[0][0] \n",
      "__________________________________________________________________________________________________\n",
      "dense_5 (Dense)                 (None, 512)          262656      concatenate_2[0][0]              \n",
      "__________________________________________________________________________________________________\n",
      "add_3 (Add)                     (None, 512)          0           concatenate_2[0][0]              \n",
      "                                                                 dense_5[0][0]                    \n",
      "__________________________________________________________________________________________________\n",
      "dense_6 (Dense)                 (None, 512)          262656      add_3[0][0]                      \n",
      "__________________________________________________________________________________________________\n",
      "add_4 (Add)                     (None, 512)          0           add_3[0][0]                      \n",
      "                                                                 dense_6[0][0]                    \n",
      "__________________________________________________________________________________________________\n",
      "dense_7 (Dense)                 (None, 1)            513         add_4[0][0]                      \n",
      "__________________________________________________________________________________________________\n",
      "dense_8 (Dense)                 (None, 6)            3078        add_4[0][0]                      \n",
      "==================================================================================================\n",
      "Total params: 247,699,887\n",
      "Trainable params: 1,671,687\n",
      "Non-trainable params: 246,028,200\n",
      "__________________________________________________________________________________________________\n"
     ]
    }
   ],
   "source": [
    "model.summary()"
   ]
  },
  {
   "cell_type": "code",
   "execution_count": 35,
   "metadata": {},
   "outputs": [],
   "source": [
    "from keras.utils import plot_model\n",
    "plot_model(model, to_file='model.png', show_shapes=True, )#expand_nested=True)"
   ]
  },
  {
   "cell_type": "code",
   "execution_count": 36,
   "metadata": {},
   "outputs": [
    {
     "data": {
      "image/png": "[encoded data removed]",
      "text/plain": [
       "<IPython.core.display.Image object>"
      ]
     },
     "execution_count": 36,
     "metadata": {},
     "output_type": "execute_result"
    }
   ],
   "source": [
    "from IPython.display import Image\n",
    "Image(filename='model.png') "
   ]
  },
  {
   "cell_type": "code",
   "execution_count": 37,
   "metadata": {},
   "outputs": [
    {
     "data": {
      "text/plain": [
       "<tf.Variable 'Adam_1/lr:0' shape=() dtype=float32_ref>"
      ]
     },
     "execution_count": 37,
     "metadata": {},
     "output_type": "execute_result"
    }
   ],
   "source": [
    "(model.optimizer.lr)"
   ]
  },
  {
   "cell_type": "markdown",
   "metadata": {},
   "source": [
    "NEXT 2019Jun26T145203Z-0500\n",
    "\n",
    "check to see that it succeeded\n",
    "\n",
    "change the numSamples and run again\n",
    "\n"
   ]
  },
  {
   "cell_type": "code",
   "execution_count": null,
   "metadata": {},
   "outputs": [],
   "source": []
  }
 ],
 "metadata": {
  "kernelspec": {
   "display_name": "Python 3",
   "language": "python",
   "name": "python3"
  },
  "language_info": {
   "codemirror_mode": {
    "name": "ipython",
    "version": 3
   },
   "file_extension": ".py",
   "mimetype": "text/x-python",
   "name": "python",
   "nbconvert_exporter": "python",
   "pygments_lexer": "ipython3",
   "version": "3.5.3"
  }
 },
 "nbformat": 4,
 "nbformat_minor": 1
}
